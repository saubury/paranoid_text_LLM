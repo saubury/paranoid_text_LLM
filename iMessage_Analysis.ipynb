{
 "cells": [
  {
   "cell_type": "markdown",
   "metadata": {},
   "source": [
    "\n",
    "# Paranoid analysis of iMessage chats with OpenAI, LlamaIndex & DuckDB\n",
    "\n",
    "Can I safely combine my local personal data with a public large language model to understand my texting behaviour? \n",
    "\n",
    "![](docs/arch.png)\n",
    "\n",
    "A project combining natural language and generative AI models to explore my private data without sharing (too much of) my personal life with the robots."
   ]
  },
  {
   "cell_type": "markdown",
   "metadata": {},
   "source": [
    "# iMessage analysis - Prepare data\n",
    "\n",
    "## Notebook for Fitbit data analysis with DuckDB\n",
    "Expected to be run in a notebook, DuckDB’s Python client can be used [directly in Jupyter notebook](https://duckdb.org/docs/guides/python/jupyter)\n",
    "\n",
    "First step is import the relevant librariesSet and configure to directly output data to Pandas and to simplify the output that is printed to the notebook."
   ]
  },
  {
   "cell_type": "code",
   "execution_count": null,
   "metadata": {},
   "outputs": [],
   "source": [
    "import duckdb\n",
    "import pandas as pd\n",
    "\n",
    "%load_ext sql\n",
    "%sql duckdb:///myduck.db\n",
    "\n",
    "%config SqlMagic.autopandas = True\n",
    "%config SqlMagic.feedback = False\n",
    "%config SqlMagic.displaycon = False"
   ]
  },
  {
   "cell_type": "markdown",
   "metadata": {},
   "source": [
    "## Loading data\n",
    "\n",
    "If you are on a Mac, logged into your iCloud account you can copy the local iMessage SQLite database and load it.\n",
    "\n",
    "⏩ You can skip these steps - jump to [Generative AI with Pandas and LlamaIndex](#genai) if you just want to analyse some sample data"
   ]
  },
  {
   "cell_type": "markdown",
   "metadata": {},
   "source": [
    "### SQLite Scanner DuckDB extension\n",
    "\n",
    "Load [SQLite Scanner DuckDB extension](https://duckdb.org/docs/extensions/sqlite_scanner) is a loadable extension that allows DuckDB to directly read data from a SQLite database such as iMessage."
   ]
  },
  {
   "cell_type": "code",
   "execution_count": null,
   "metadata": {},
   "outputs": [],
   "source": [
    "%%sql\n",
    "INSTALL sqlite_scanner;\n",
    "LOAD sqlite_scanner;"
   ]
  },
  {
   "cell_type": "markdown",
   "metadata": {},
   "source": [
    "### Copy your iMessage\n",
    "We now copy the iMessage SQLite databe. You'll need to be on on a Mac, logged into your Imessage account which has a copy of your messages. \n",
    "\n",
    "If you recieve the error `Operation not permitted` you may need to run the command in a terminal and accept the prompts to interact with privilaged files."
   ]
  },
  {
   "cell_type": "code",
   "execution_count": null,
   "metadata": {},
   "outputs": [],
   "source": [
    "! cp ~/Library/Messages/chat.db ./sql/chat.db"
   ]
  },
  {
   "cell_type": "markdown",
   "metadata": {},
   "source": [
    "### Attach DuckDB to SQLite database\n",
    "\n",
    "We will open the iMessage SQLite database, with the [attach](https://duckdb.org/docs/sql/statements/attach.html) command. This will open the SQLite database file `./sql/chat.db` in the schema namespace `chat_sqlite`\n",
    "chat"
   ]
  },
  {
   "cell_type": "code",
   "execution_count": null,
   "metadata": {},
   "outputs": [],
   "source": [
    "%%sql\n",
    "DETACH DATABASE IF EXISTS chat_sqlite;\n",
    "\n",
    "ATTACH './sql/chat.db' as chat_sqlite (TYPE sqlite,  READ_ONLY TRUE);"
   ]
  },
  {
   "cell_type": "markdown",
   "metadata": {},
   "source": [
    "### Load messages into table\n",
    "We create the `chat_messages` DuckDB table by joining three tables from the iMessage SQLite database. \n",
    "\n",
    "We also \n",
    "- determine the message time by evaluating the interval (number of seconds since EPOC of `2001-01-01`)\n",
    "- extract the phone number country calling code (eg, `+1`, `+61`) \n",
    "- redact phone number like `+61412341234` to `+614...41234`"
   ]
  },
  {
   "cell_type": "code",
   "execution_count": null,
   "metadata": {},
   "outputs": [],
   "source": [
    "%%sql\n",
    "CREATE OR REPLACE TABLE chat_messages\n",
    "AS\n",
    "SELECT TIMESTAMP '2001-01-01' + INTERVAL (msg.date / 1000000000) seconds + INTERVAL 10 HOURS as message_date,\n",
    "msg.text,\n",
    "msg.attributedBody,\n",
    "msg.is_from_me,\n",
    "CASE WHEN ct.chat_identifier like '+1%' then SUBSTRING(ct.chat_identifier, 1, 2) when ct.chat_identifier like '+%' then SUBSTRING(ct.chat_identifier, 1, 3) end as phone_country_calling_code,\n",
    "CASE WHEN ct.chat_identifier not like '+%' then ct.chat_identifier end as email,\n",
    "regexp_replace(ct.chat_identifier, '^(\\+[0-9][0-9][0-9])([0-9][0-9][0-9])', '\\1...\\3') as phone_number\n",
    "FROM chat_sqlite.chat ct\n",
    "JOIN chat_sqlite.chat_message_join cmj ON ct.\"ROWID\" = cmj.chat_id\n",
    "JOIN chat_sqlite.message msg ON cmj.message_id = msg.\"ROWID\";"
   ]
  },
  {
   "cell_type": "code",
   "execution_count": null,
   "metadata": {},
   "outputs": [],
   "source": [
    "%%sql\n",
    "chat_messages_df <<\n",
    "  SELECT *\n",
    "  FROM chat_messages\n",
    "  ORDER BY message_date DESC;"
   ]
  },
  {
   "cell_type": "markdown",
   "metadata": {},
   "source": [
    "### Decoding attributedBody\n",
    "\n",
    "The iMessage database has a mixure of encoding formats, with older messages as plain text in the `text` field, with newer messages encoded in the `attributedBody` field. \n",
    "\n",
    "Sometime around November 2022 the messages started coming in in new format which migh be related to a message upgrade related to the release of iOS 16.\n",
    "\n",
    "I'm thankful to the [iMessage-Tools](https://github.com/my-other-github-account/imessage_tools/) project which had the logic to extract the text content is hidden within the `attributedBody` field. The `decode_message` utility function extracts the text regardsless of format."
   ]
  },
  {
   "cell_type": "code",
   "execution_count": null,
   "metadata": {},
   "outputs": [],
   "source": [
    "import re\n",
    "\n",
    "def decode_message(row):\n",
    "  msg_text = row['text']\n",
    "  msg_attributed_body = row['attributedBody']\n",
    "\n",
    "  # Logic from https://github.com/my-other-github-account/imessage_tools\n",
    "  body=''\n",
    "  if not msg_text:\n",
    "    body = msg_text\n",
    "  elif msg_attributed_body is None:\n",
    "    body = ''\n",
    "  else:\n",
    "    try:\n",
    "      msg_attributed_body = msg_attributed_body.decode('utf-8', errors='replace')\n",
    "    except AttributeError as err:\n",
    "      pass\n",
    "\n",
    "    if \"NSNumber\" in str(msg_attributed_body):\n",
    "      msg_attributed_body = str(msg_attributed_body).split(\"NSNumber\")[0]\n",
    "      if \"NSString\" in msg_attributed_body:\n",
    "        msg_attributed_body = str(msg_attributed_body).split(\"NSString\")[1]\n",
    "        if \"NSDictionary\" in msg_attributed_body:\n",
    "          msg_attributed_body = str(msg_attributed_body).split(\"NSDictionary\")[0]\n",
    "          msg_attributed_body = msg_attributed_body[6:-12]\n",
    "          body = msg_attributed_body\n",
    "\n",
    "  body = re.sub(r'\\n', ' ', body)\n",
    "  return body"
   ]
  },
  {
   "cell_type": "markdown",
   "metadata": {},
   "source": [
    "### Inline message extraction\n",
    "We'll use a the [pandas apply()](https://pandas.pydata.org/docs/reference/api/pandas.DataFrame.apply.html) method to apply the `decode_message` function to the DataFrame. We will also drop some unnessary columns"
   ]
  },
  {
   "cell_type": "code",
   "execution_count": null,
   "metadata": {},
   "outputs": [],
   "source": [
    "chat_messages_df['message_text'] = chat_messages_df.apply(decode_message, axis=1)\n"
   ]
  },
  {
   "cell_type": "code",
   "execution_count": null,
   "metadata": {},
   "outputs": [],
   "source": [
    "chat_messages_df = chat_messages_df.drop(['text', 'attributedBody'], axis=1, errors='ignore')"
   ]
  },
  {
   "cell_type": "code",
   "execution_count": null,
   "metadata": {},
   "outputs": [],
   "source": [
    "chat_messages_df.head(10)"
   ]
  },
  {
   "cell_type": "markdown",
   "metadata": {},
   "source": [
    "### Export the DataFrame to disk (optional)\n",
    "This is optional - we can export the DataFrame to a CSV file."
   ]
  },
  {
   "cell_type": "code",
   "execution_count": null,
   "metadata": {},
   "outputs": [],
   "source": [
    "%%sql\n",
    "CREATE OR REPLACE TABLE SAMPLE_CHAT_MESSAGES\n",
    "AS\n",
    "SELECT message_date, is_from_me, phone_country_calling_code, phone_number, email\n",
    ", translate(message_text, 'abcdefghijklmnopqrstuvwxyzABCDEFGHIJKLMNOPQRSTUVWXYZ0123456789', 'xxxxxxxxxxxxxxxxxxxxxxxxxxXXXXXXXXXXXXXXXXXXXXXXXXXXnnnnnnnnnn')  as message_text                \n",
    "FROM chat_messages_df \n",
    "WHERE EMAIL IS NULL;\n"
   ]
  },
  {
   "cell_type": "code",
   "execution_count": null,
   "metadata": {},
   "outputs": [],
   "source": [
    "%%sql\n",
    "COPY (\n",
    "  SELECT *\n",
    "  FROM SAMPLE_CHAT_MESSAGES\n",
    "  USING SAMPLE 50\n",
    "  ) \n",
    "TO 'sample_chat_messages.csv' (HEADER, DELIMITER ',');"
   ]
  },
  {
   "cell_type": "markdown",
   "metadata": {},
   "source": [
    "# Generative AI with Pandas and LlamaIndex\n",
    "\n",
    "<a id='genai'></a>\n",
    "\n",
    "\n",
    "We'll be using [LlamaIndex](https://www.llamaindex.ai/) -  a flexible data framework for connecting custom data sources to large language models.\n",
    "\n",
    "You have now either extracted your iMessages, or you are happy to use some sample data. We'll first load the `chat_messages_df` dataframe containing messages to process."
   ]
  },
  {
   "cell_type": "code",
   "execution_count": null,
   "metadata": {},
   "outputs": [],
   "source": [
    "%%sql\n",
    "chat_messages_df <<\n",
    "  SELECT * \n",
    "  FROM read_csv_auto('sample_chat_messages.csv');"
   ]
  },
  {
   "cell_type": "markdown",
   "metadata": {},
   "source": [
    "### \"Man in the Middle\" HTTPS proxy - mitmproxy (optional)\n",
    "This is an optional step if you want to inspect the traffic. Install [mitmproxy](https://mitmproxy.org/) which is a free and open source HTTPS proxy - used to intercept and inspect SSL/TLS-protected traffic.\n",
    "\n",
    "If you want to view the traffice, start `mitmweb` and set the following environment variables.\n",
    "\n",
    "⏩ However, you can skip these steps - jump to [LlamaIndex](#llamaindex) to analyse data."
   ]
  },
  {
   "cell_type": "code",
   "execution_count": null,
   "metadata": {},
   "outputs": [],
   "source": [
    "import os\n",
    "os.environ['http_proxy'] = \"http://127.0.0.1:8080\" \n",
    "os.environ['https_proxy'] = \"https://127.0.0.1:8080\" \n",
    "os.environ['REQUESTS_CA_BUNDLE'] = \"/Users/saubury/.mitmproxy/mitmproxy-ca-cert.pem\" "
   ]
  },
  {
   "cell_type": "markdown",
   "metadata": {},
   "source": [
    "## LlamaIndex\n",
    "\n",
    "<a id='llamaindex'></a>\n"
   ]
  },
  {
   "cell_type": "code",
   "execution_count": null,
   "metadata": {},
   "outputs": [],
   "source": [
    "import pandas as pd\n",
    "from llama_index.query_engine.pandas_query_engine import PandasQueryEngine\n",
    "import openai\n",
    "import configparser\n",
    "\n",
    "config = configparser.ConfigParser()\n",
    "config.read('notebook.cfg')\n",
    "openai_api_token = config.get('openai', 'api_token')\n",
    "openai.api_key =  openai_api_token"
   ]
  },
  {
   "cell_type": "markdown",
   "metadata": {},
   "source": [
    "### 1. Most frequent contact"
   ]
  },
  {
   "cell_type": "code",
   "execution_count": null,
   "metadata": {},
   "outputs": [],
   "source": [
    "query_engine = PandasQueryEngine(df=chat_messages_df[['phone_number']], verbose=False)\n",
    "response = query_engine.query(\"What is the most frequent phone_number?\")\n",
    "print(response)"
   ]
  },
  {
   "cell_type": "markdown",
   "metadata": {},
   "source": [
    "### 2. Plot a bar chart showing the frequency by phone number"
   ]
  },
  {
   "cell_type": "code",
   "execution_count": null,
   "metadata": {},
   "outputs": [],
   "source": [
    "query_engine = PandasQueryEngine(df=chat_messages_df[['phone_number']], verbose=False)\n",
    "\n",
    "response = query_engine.query(\n",
    "    \"\"\"Create a plot a bar chart showing the frequency of top eight phone_numbers. \n",
    "    Add a title. \n",
    "    The X axis lables should be at a 45 degree angle.\n",
    "    Use a differnt colour for each bar.\"\"\",\n",
    ")"
   ]
  },
  {
   "cell_type": "markdown",
   "metadata": {},
   "source": [
    "### 3. Distribution of the message activity through the day"
   ]
  },
  {
   "cell_type": "code",
   "execution_count": null,
   "metadata": {},
   "outputs": [],
   "source": [
    "query_engine = PandasQueryEngine(df=chat_messages_df[['message_date']], verbose=False)\n",
    "\n",
    "response = query_engine.query(\n",
    "    \"\"\"Extract hour of day from message_date. \n",
    "    Visualize a distribution of the hour extracted from message_date. \n",
    "    Add a title and label the axis. \n",
    "    Use colors. \n",
    "    Add a gap between bars. \n",
    "    Colour the bars with an hour of 5 in red and the rest in blue.\"\"\",\n",
    ")"
   ]
  },
  {
   "cell_type": "markdown",
   "metadata": {},
   "source": [
    "### 4. Distribution of the length of message"
   ]
  },
  {
   "cell_type": "code",
   "execution_count": null,
   "metadata": {},
   "outputs": [],
   "source": [
    "query_engine = PandasQueryEngine(df=chat_messages_df[['message_text']], verbose=False)\n",
    "\n",
    "response = query_engine.query(\n",
    "    \"\"\"Visualize a distribution of the length of message_text. \n",
    "    Use a logerithmic scale.  \n",
    "    Add a title and label both axis. \n",
    "    Add a space between bars.\"\"\"\n",
    ")"
   ]
  },
  {
   "cell_type": "code",
   "execution_count": null,
   "metadata": {},
   "outputs": [],
   "source": [
    "query_engine = PandasQueryEngine(df=chat_messages_df[['is_from_me']], verbose=False)\n",
    "\n",
    "response = query_engine.query(\n",
    "    \"\"\"Visualize a pie chart of the proption of is_from_me. \n",
    "    Label the value 0 as 'inbound'. \n",
    "    Add a percentage rounded to 1 decimal places\"\"\"\n",
    ")"
   ]
  }
 ],
 "metadata": {
  "kernelspec": {
   "display_name": "Python 3.11.5 ('.venv': venv)",
   "language": "python",
   "name": "python3"
  },
  "language_info": {
   "codemirror_mode": {
    "name": "ipython",
    "version": 3
   },
   "file_extension": ".py",
   "mimetype": "text/x-python",
   "name": "python",
   "nbconvert_exporter": "python",
   "pygments_lexer": "ipython3",
   "version": "3.11.5"
  },
  "vscode": {
   "interpreter": {
    "hash": "e2878780f8118566b56742d572c90d1fe291b4345b3561a352d8892ab7014158"
   }
  }
 },
 "nbformat": 4,
 "nbformat_minor": 4
}
